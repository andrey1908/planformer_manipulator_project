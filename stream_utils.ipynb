{
 "cells": [
  {
   "cell_type": "code",
   "execution_count": null,
   "metadata": {},
   "outputs": [],
   "source": [
    "%reload_ext autoreload\n",
    "%autoreload 2\n",
    "\n",
    "import cv2\n",
    "import numpy as np\n",
    "from stream_utils import stream_table_frame, stream_segmented_scene, \\\n",
    "    stream_aruco_detected_on_boxes, StreamCallbacks\n",
    "from camera_utils import stream\n",
    "from params import table_aruco_size, box_aruco_size, K, D, top_camera_id, front_camera_id"
   ]
  },
  {
   "cell_type": "code",
   "execution_count": null,
   "metadata": {},
   "outputs": [],
   "source": [
    "# open camera\n",
    "cam = cv2.VideoCapture(top_camera_id)\n",
    "cam.set(cv2.CAP_PROP_FRAME_WIDTH, 1280)\n",
    "cam.set(cv2.CAP_PROP_FRAME_HEIGHT, 1024)\n",
    "camera = lambda: {\"image\": cam.read()[1]}"
   ]
  },
  {
   "cell_type": "code",
   "execution_count": null,
   "metadata": {},
   "outputs": [],
   "source": [
    "# stream camera\n",
    "stream(camera)"
   ]
  },
  {
   "cell_type": "code",
   "execution_count": null,
   "metadata": {},
   "outputs": [],
   "source": [
    "# stream table frame\n",
    "save_folder = None\n",
    "view = \"top\"\n",
    "stream_table_frame(camera, view, K, D, table_aruco_size, save_folder=save_folder)"
   ]
  },
  {
   "cell_type": "code",
   "execution_count": null,
   "metadata": {},
   "outputs": [],
   "source": [
    "# stream segmented scene\n",
    "save_folder = None\n",
    "view = \"top\"\n",
    "stream_segmented_scene(camera, view, save_folder=save_folder)"
   ]
  },
  {
   "cell_type": "code",
   "execution_count": null,
   "metadata": {},
   "outputs": [],
   "source": [
    "# stream aruco detected on boxes\n",
    "save_folder = None\n",
    "view = \"top\"\n",
    "stream_aruco_detected_on_boxes(camera, view, K, D, box_aruco_size, save_folder=save_folder)"
   ]
  },
  {
   "cell_type": "code",
   "execution_count": null,
   "metadata": {},
   "outputs": [],
   "source": [
    "# close camera\n",
    "cam.release()"
   ]
  }
 ],
 "metadata": {
  "language_info": {
   "name": "python"
  },
  "orig_nbformat": 4
 },
 "nbformat": 4,
 "nbformat_minor": 2
}
