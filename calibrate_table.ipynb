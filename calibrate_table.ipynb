{
 "cells": [
  {
   "cell_type": "code",
   "execution_count": 2,
   "metadata": {},
   "outputs": [],
   "source": [
    "%reload_ext autoreload\n",
    "%autoreload 2\n",
    "\n",
    "import cv2\n",
    "import numpy as np\n",
    "import os\n",
    "import os.path as osp\n",
    "from calibrate_table import calibrate_table_by_aruco\n",
    "from table_markers import get_table_markers_coords_in_table_frame\n",
    "from utils import show, get_image_from_camera\n",
    "from params import box_size, table_aruco_size, K, D, top_camera_id, front_camera_id"
   ]
  },
  {
   "cell_type": "code",
   "execution_count": null,
   "metadata": {},
   "outputs": [],
   "source": [
    "# visualize table frame\n",
    "\n",
    "view = \"top\"\n",
    "# view = \"front\"\n",
    "\n",
    "image_file = \"top_image.jpg\"\n",
    "image = cv2.imread(image_file)\n",
    "# image = get_image_from_camera(top_camera_id)\n",
    "\n",
    "table_frame, _ = calibrate_table_by_aruco(image, view, K, D, table_aruco_size)\n",
    "if table_frame is None:\n",
    "    print(\"Could not detect table\")\n",
    "else:\n",
    "    camera2table = table_frame.origin2plane()\n",
    "    rvec, _ = cv2.Rodrigues(camera2table[0:3, 0:3])\n",
    "    tvec = camera2table[0:3, 3]\n",
    "    draw = image.copy()\n",
    "    cv2.drawFrameAxes(draw, K, D, rvec, tvec, 0.1)\n",
    "    show(draw)"
   ]
  },
  {
   "cell_type": "code",
   "execution_count": null,
   "metadata": {},
   "outputs": [],
   "source": [
    "# get table aruco corners in table frame\n",
    "\n",
    "view = \"top\"\n",
    "\n",
    "folder = \"top_images\"\n",
    "image_files = list(map(lambda f: osp.join(folder, f), sorted(os.listdir(folder))))\n",
    "images = [cv2.imread(image_file) for image_file in image_files]\n",
    "# n = 5\n",
    "# images = [get_image_from_camera(top_camera_id) for i in range(n)]\n",
    "\n",
    "corners_3d_in_table_all = list()\n",
    "for image in images:\n",
    "    table_frame, corners_3d_in_camera = \\\n",
    "        calibrate_table_by_aruco(image, view, K, D, table_aruco_size)\n",
    "    corners_3d_in_camera = corners_3d_in_camera[:, 0, 0, :]\n",
    "    # corners_3d_in_camera.shape = (n, 3)\n",
    "    corners_3d_in_table = table_frame.to_plane(corners_3d_in_camera)\n",
    "    corners_3d_in_table_all.append(corners_3d_in_table)\n",
    "\n",
    "corners_3d_in_table_all = np.array(corners_3d_in_table_all)\n",
    "corners_3d_in_table_mean = corners_3d_in_table_all.mean(axis=0)\n",
    "\n",
    "print(corners_3d_in_table_mean.shape)\n",
    "print(corners_3d_in_table_mean)"
   ]
  },
  {
   "cell_type": "code",
   "execution_count": 4,
   "metadata": {},
   "outputs": [],
   "source": [
    "np.save('data/aruco_corners_in_table.npy', corners_3d_in_table_mean)"
   ]
  },
  {
   "cell_type": "code",
   "execution_count": null,
   "metadata": {},
   "outputs": [],
   "source": [
    "# get table markers coords in table frame\n",
    "\n",
    "view = \"top\"\n",
    "\n",
    "image_file = \"top_image.jpg\"\n",
    "image = cv2.imread(image_file)\n",
    "# image = get_image_from_camera(top_camera_id)\n",
    "\n",
    "table_frame, _ = calibrate_table_by_aruco(image, view, K, D, table_aruco_size)\n",
    "target_table_markers = \\\n",
    "    get_table_markers_coords_in_table_frame(image, view, K, D, table_frame, box_size / 2)\n",
    "\n",
    "print(target_table_markers)"
   ]
  },
  {
   "cell_type": "code",
   "execution_count": null,
   "metadata": {},
   "outputs": [],
   "source": [
    "np.save('data/target_table_markers.npy', target_table_markers)"
   ]
  }
 ],
 "metadata": {
  "interpreter": {
   "hash": "22f35026c99b1f6887daf6f0d1395c99737793caec2cc4fa319b8c5faf2576e1"
  },
  "kernelspec": {
   "display_name": "Python 3.8.3 ('base')",
   "language": "python",
   "name": "python3"
  },
  "language_info": {
   "codemirror_mode": {
    "name": "ipython",
    "version": 3
   },
   "file_extension": ".py",
   "mimetype": "text/x-python",
   "name": "python",
   "nbconvert_exporter": "python",
   "pygments_lexer": "ipython3",
   "version": "3.8.3"
  },
  "orig_nbformat": 4
 },
 "nbformat": 4,
 "nbformat_minor": 2
}
