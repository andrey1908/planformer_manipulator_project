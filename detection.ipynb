{
 "cells": [
  {
   "cell_type": "code",
   "execution_count": 1,
   "metadata": {},
   "outputs": [],
   "source": [
    "%reload_ext autoreload\n",
    "%autoreload 2\n",
    "\n",
    "import cv2\n",
    "import numpy as np\n",
    "import os\n",
    "from kas_utils.aruco import draw_aruco\n",
    "from utils import show\n",
    "from detection import detect_table_aruco, detect_boxes_aruco\n",
    "from params import table_aruco_size, box_aruco_size, box_size, K, D, \\\n",
    "    top_camera_id, front_camera_id\n",
    "from utils import get_image_from_camera"
   ]
  },
  {
   "cell_type": "code",
   "execution_count": null,
   "metadata": {},
   "outputs": [],
   "source": [
    "# detect table aruco\n",
    "\n",
    "read_image_from_file = True\n",
    "if read_image_from_file:\n",
    "    view = \"front\"\n",
    "    image_file = \"images/detection/0000.jpg\"\n",
    "    image = cv2.imread(image_file)\n",
    "else:\n",
    "    view = \"top\"\n",
    "    image = get_image_from_camera(top_camera_id)\n",
    "\n",
    "arucos = detect_table_aruco(image, view, K, D, table_aruco_size)\n",
    "draw = image.copy()\n",
    "draw_aruco(draw, arucos, draw_rejected_only=False, draw_ids=False, K=K, D=D)\n",
    "\n",
    "show(draw)"
   ]
  },
  {
   "cell_type": "code",
   "execution_count": null,
   "metadata": {},
   "outputs": [],
   "source": [
    "# detect boxes aruco\n",
    "\n",
    "read_image_from_file = True\n",
    "if read_image_from_file:\n",
    "    view = \"front\"\n",
    "    image_file = \"images/detection/0000.jpg\"\n",
    "    image = cv2.imread(image_file)\n",
    "else:\n",
    "    view = \"top\"\n",
    "    image = get_image_from_camera(top_camera_id)\n",
    "\n",
    "arucos = detect_boxes_aruco(image, view, K, D, box_aruco_size)\n",
    "draw = image.copy()\n",
    "draw_aruco(draw, arucos, draw_rejected_only=False, draw_ids=False, K=K, D=D)\n",
    "\n",
    "show(draw)"
   ]
  }
 ],
 "metadata": {
  "interpreter": {
   "hash": "22f35026c99b1f6887daf6f0d1395c99737793caec2cc4fa319b8c5faf2576e1"
  },
  "kernelspec": {
   "display_name": "Python 3.8.3 ('base')",
   "language": "python",
   "name": "python3"
  },
  "language_info": {
   "codemirror_mode": {
    "name": "ipython",
    "version": 3
   },
   "file_extension": ".py",
   "mimetype": "text/x-python",
   "name": "python",
   "nbconvert_exporter": "python",
   "pygments_lexer": "ipython3",
   "version": "3.8.3"
  },
  "orig_nbformat": 4
 },
 "nbformat": 4,
 "nbformat_minor": 2
}
