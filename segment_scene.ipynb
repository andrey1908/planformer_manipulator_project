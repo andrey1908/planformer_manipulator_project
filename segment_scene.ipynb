{
 "cells": [
  {
   "cell_type": "code",
   "execution_count": 2,
   "metadata": {},
   "outputs": [],
   "source": [
    "%reload_ext autoreload\n",
    "%autoreload 2\n",
    "\n",
    "import cv2\n",
    "import numpy as np\n",
    "from segment_scene import segment_scene_colorful\n",
    "from utils import show, get_image_from_camera\n",
    "from params import K, D, top_camera_id, front_camera_id"
   ]
  },
  {
   "cell_type": "code",
   "execution_count": null,
   "metadata": {},
   "outputs": [],
   "source": [
    "# segment scene top\n",
    "\n",
    "read_image_from_file = True\n",
    "if read_image_from_file:\n",
    "    use_top_image = True\n",
    "    if use_top_image:\n",
    "        view = \"top\"\n",
    "        image_file = \"images/segment_scene/top.jpg\"\n",
    "    else:\n",
    "        view = \"front\"\n",
    "        image_file = \"images/segment_scene/front.jpg\"\n",
    "    image = cv2.imread(image_file)\n",
    "else:\n",
    "    view = \"top\"\n",
    "    image = get_image_from_camera(top_camera_id)\n",
    "\n",
    "segmentation, (num_red, num_blue) = segment_scene_colorful(image, view=view)\n",
    "print(f\"Segmented {num_red} red, {num_blue} blue\")\n",
    "\n",
    "show(segmentation)"
   ]
  }
 ],
 "metadata": {
  "interpreter": {
   "hash": "22f35026c99b1f6887daf6f0d1395c99737793caec2cc4fa319b8c5faf2576e1"
  },
  "kernelspec": {
   "display_name": "Python 3.8.3 ('base')",
   "language": "python",
   "name": "python3"
  },
  "language_info": {
   "codemirror_mode": {
    "name": "ipython",
    "version": 3
   },
   "file_extension": ".py",
   "mimetype": "text/x-python",
   "name": "python",
   "nbconvert_exporter": "python",
   "pygments_lexer": "ipython3",
   "version": "3.8.3"
  },
  "orig_nbformat": 4
 },
 "nbformat": 4,
 "nbformat_minor": 2
}
